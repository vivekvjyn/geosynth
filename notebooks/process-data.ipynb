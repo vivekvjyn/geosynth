{
 "cells": [
  {
   "cell_type": "markdown",
   "id": "b967a5aa-08e8-468a-92c0-9a1f80a16f41",
   "metadata": {},
   "source": [
    "---\n",
    "\n",
    "# Data Preprocessing\n",
    "\n",
    "> This notebook contains code for preprocessing the corpus for training.\n",
    "> This includes splitting latitudes, longitudes and normalization.\n",
    "> The processed data is saved to `mappings.csv`\n",
    "\n",
    "---"
   ]
  },
  {
   "cell_type": "code",
   "execution_count": 1,
   "id": "68e9585d-43d9-4132-a739-1848dc97f278",
   "metadata": {},
   "outputs": [],
   "source": [
    "import os\n",
    "import json\n",
    "import numpy as np\n",
    "import pandas as pd\n",
    "import librosa"
   ]
  },
  {
   "cell_type": "markdown",
   "id": "d7613c0a-2ef2-410a-92db-f29cd59d1606",
   "metadata": {},
   "source": [
    "## Load mappings.json"
   ]
  },
  {
   "cell_type": "code",
   "execution_count": 2,
   "id": "ac2639c3-e283-41b4-900c-68dce0e2b7ea",
   "metadata": {},
   "outputs": [],
   "source": [
    "with open('../corpus/mappings.json', 'r') as f:\n",
    "    data = json.load(f)"
   ]
  },
  {
   "cell_type": "code",
   "execution_count": 3,
   "id": "c63bbfb5-3e58-4b3c-a0ba-33ad893cdfb7",
   "metadata": {},
   "outputs": [],
   "source": [
    "paths = list(data.keys())\n",
    "geotags = list(data.values())"
   ]
  },
  {
   "cell_type": "markdown",
   "id": "56542dac-75fb-445c-9256-ef70638ae2fa",
   "metadata": {},
   "source": [
    "**Get full file paths**"
   ]
  },
  {
   "cell_type": "code",
   "execution_count": 4,
   "id": "3edc821a-8e98-4f25-a7b5-b35721632f21",
   "metadata": {},
   "outputs": [],
   "source": [
    "fullpaths = list()\n",
    "\n",
    "for path in paths:\n",
    "    fullpath = os.path.join('../corpus/audio', path)\n",
    "\n",
    "    fullpaths.append(fullpath)"
   ]
  },
  {
   "cell_type": "markdown",
   "id": "ebd2c38a-e3c7-4576-a28d-39e5efbb5344",
   "metadata": {},
   "source": [
    "## Get latitudes and longitudes\n",
    "- Split latitudes and longitudes\n",
    "- Normalize them"
   ]
  },
  {
   "cell_type": "code",
   "execution_count": 5,
   "id": "deba1a45-2f75-4ac7-aace-a89e5f8aa256",
   "metadata": {},
   "outputs": [],
   "source": [
    "lats = list()\n",
    "longs = list()\n",
    "\n",
    "for geotag in geotags:\n",
    "    lat, long = geotag.split()\n",
    "    lat = float(lat) / 90.0\n",
    "    long = float(long) / 180.0\n",
    "\n",
    "    lats.append(lat)\n",
    "    longs.append(long)"
   ]
  },
  {
   "cell_type": "markdown",
   "id": "a1906c51-049e-4bb6-9e7a-439ff8b900b0",
   "metadata": {},
   "source": [
    "## Write to csv\n",
    "- Create mappings dataframe with full file paths, latitudes and longitudes\n",
    "- Write to mappings.csv"
   ]
  },
  {
   "cell_type": "code",
   "execution_count": 6,
   "id": "9f75509e-3c4d-458b-a213-42471c302c2c",
   "metadata": {},
   "outputs": [],
   "source": [
    "df = pd.DataFrame({\n",
    "    'path': fullpaths,\n",
    "    'lat': lats,\n",
    "    'long': longs\n",
    "})"
   ]
  },
  {
   "cell_type": "code",
   "execution_count": 7,
   "id": "7aabe873-5ef7-46e9-bdc3-de9fef6103ad",
   "metadata": {},
   "outputs": [
    {
     "data": {
      "text/html": [
       "<div>\n",
       "<style scoped>\n",
       "    .dataframe tbody tr th:only-of-type {\n",
       "        vertical-align: middle;\n",
       "    }\n",
       "\n",
       "    .dataframe tbody tr th {\n",
       "        vertical-align: top;\n",
       "    }\n",
       "\n",
       "    .dataframe thead th {\n",
       "        text-align: right;\n",
       "    }\n",
       "</style>\n",
       "<table border=\"1\" class=\"dataframe\">\n",
       "  <thead>\n",
       "    <tr style=\"text-align: right;\">\n",
       "      <th></th>\n",
       "      <th>path</th>\n",
       "      <th>lat</th>\n",
       "      <th>long</th>\n",
       "    </tr>\n",
       "  </thead>\n",
       "  <tbody>\n",
       "    <tr>\n",
       "      <th>0</th>\n",
       "      <td>../corpus/audio/169884.mp3</td>\n",
       "      <td>0.501047</td>\n",
       "      <td>0.041804</td>\n",
       "    </tr>\n",
       "    <tr>\n",
       "      <th>1</th>\n",
       "      <td>../corpus/audio/169885.mp3</td>\n",
       "      <td>0.501052</td>\n",
       "      <td>0.041806</td>\n",
       "    </tr>\n",
       "    <tr>\n",
       "      <th>2</th>\n",
       "      <td>../corpus/audio/697381.mp3</td>\n",
       "      <td>0.187898</td>\n",
       "      <td>0.534158</td>\n",
       "    </tr>\n",
       "    <tr>\n",
       "      <th>3</th>\n",
       "      <td>../corpus/audio/187893.mp3</td>\n",
       "      <td>0.459852</td>\n",
       "      <td>0.012109</td>\n",
       "    </tr>\n",
       "    <tr>\n",
       "      <th>4</th>\n",
       "      <td>../corpus/audio/788102.mp3</td>\n",
       "      <td>0.236748</td>\n",
       "      <td>-0.876991</td>\n",
       "    </tr>\n",
       "  </tbody>\n",
       "</table>\n",
       "</div>"
      ],
      "text/plain": [
       "                         path       lat      long\n",
       "0  ../corpus/audio/169884.mp3  0.501047  0.041804\n",
       "1  ../corpus/audio/169885.mp3  0.501052  0.041806\n",
       "2  ../corpus/audio/697381.mp3  0.187898  0.534158\n",
       "3  ../corpus/audio/187893.mp3  0.459852  0.012109\n",
       "4  ../corpus/audio/788102.mp3  0.236748 -0.876991"
      ]
     },
     "execution_count": 7,
     "metadata": {},
     "output_type": "execute_result"
    }
   ],
   "source": [
    "df.head()"
   ]
  },
  {
   "cell_type": "code",
   "execution_count": 8,
   "id": "e9766a00-8a51-446e-b986-2843b9fb0ad8",
   "metadata": {},
   "outputs": [],
   "source": [
    "df.to_csv('../corpus/mappings.csv', index=False)"
   ]
  },
  {
   "cell_type": "markdown",
   "id": "359e7249-ab6a-4028-b4f2-4959fa9a01f3",
   "metadata": {},
   "source": [
    "## Process audio"
   ]
  },
  {
   "cell_type": "code",
   "execution_count": 9,
   "id": "1e31e5de-0dbb-48b6-89f5-17cf0c2b7ea7",
   "metadata": {},
   "outputs": [],
   "source": [
    "audio = list()\n",
    "\n",
    "for i, row in df.iterrows():\n",
    "    y, sr = librosa.load(row['path'])\n",
    "\n",
    "    # Pad if short\n",
    "    if y.shape[0] < 44100:\n",
    "        y = np.pad(y, (0, max(0, 44100 - len(y))), mode=\"constant\")\n",
    "\n",
    "    # Pick the loudest part if long\n",
    "    else:\n",
    "        rms = librosa.feature.rms(y=y[:-44100])\n",
    "        max_rms = librosa.frames_to_time(np.argmax(rms), sr=sr)\n",
    "        y = y[int(max_rms * sr): int(max_rms * sr) + 44100]\n",
    "\n",
    "    audio.append(y)"
   ]
  },
  {
   "cell_type": "markdown",
   "id": "b53982a3-df94-49ea-81b6-eebca8c8045a",
   "metadata": {},
   "source": [
    "### Write to numpy file"
   ]
  },
  {
   "cell_type": "code",
   "execution_count": 10,
   "id": "9f32b064-5c48-4c44-a430-2678e2c2616e",
   "metadata": {},
   "outputs": [],
   "source": [
    "y = np.array(audio)\n",
    "y.shape\n",
    "np.save('../corpus/audio.npy', y)"
   ]
  },
  {
   "cell_type": "code",
   "execution_count": null,
   "id": "ad096ea7-7343-4c41-91d2-be0a6509aa76",
   "metadata": {},
   "outputs": [],
   "source": []
  }
 ],
 "metadata": {
  "kernelspec": {
   "display_name": "Python 3 (ipykernel)",
   "language": "python",
   "name": "python3"
  },
  "language_info": {
   "codemirror_mode": {
    "name": "ipython",
    "version": 3
   },
   "file_extension": ".py",
   "mimetype": "text/x-python",
   "name": "python",
   "nbconvert_exporter": "python",
   "pygments_lexer": "ipython3",
   "version": "3.10.16"
  }
 },
 "nbformat": 4,
 "nbformat_minor": 5
}
