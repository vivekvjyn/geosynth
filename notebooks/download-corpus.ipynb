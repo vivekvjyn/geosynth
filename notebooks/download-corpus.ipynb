{
 "cells": [
  {
   "cell_type": "markdown",
   "metadata": {
    "id": "-zWTNCC2OGXv"
   },
   "source": [
    "\n",
    "\n",
    "---\n",
    "\n",
    "\n",
    "# Freesound audio corpus generation with geotags\n",
    "\n",
    "\n",
    "> This notebook contains code for downloading sounds and geotag collection from freesound.\n",
    "> The file paths to audio and its corresponding geotag will be saved to `mappings.json`\n",
    "\n",
    "---\n",
    "\n",
    "\n"
   ]
  },
  {
   "cell_type": "code",
   "execution_count": 1,
   "metadata": {
    "id": "0DPPyhQuCKBx"
   },
   "outputs": [],
   "source": [
    "import os\n",
    "import json\n",
    "import requests\n",
    "import numpy as np\n",
    "import pandas as pd\n",
    "import freesound\n",
    "from dotenv import load_dotenv"
   ]
  },
  {
   "cell_type": "markdown",
   "metadata": {},
   "source": [
    "### Freesound API"
   ]
  },
  {
   "cell_type": "markdown",
   "metadata": {},
   "source": [
    "> Create `.env` file `FREESOUND_API_KEY=your_api_key`"
   ]
  },
  {
   "cell_type": "code",
   "execution_count": 2,
   "metadata": {},
   "outputs": [],
   "source": [
    "load_dotenv()\n",
    "\n",
    "FREESOUND_API_KEY = os.getenv('FREESOUND_API_KEY')\n",
    "\n",
    "freesound_client = freesound.FreesoundClient()\n",
    "freesound_client.set_token(FREESOUND_API_KEY)"
   ]
  },
  {
   "cell_type": "markdown",
   "metadata": {
    "id": "gdmNCm86Qv-q"
   },
   "source": [
    "## Download dataset"
   ]
  },
  {
   "cell_type": "code",
   "execution_count": 3,
   "metadata": {},
   "outputs": [],
   "source": [
    "def save_audio(audio_url, file_name):\n",
    "    base_directory = \"../corpus/audio\"\n",
    "    os.makedirs(base_directory, exist_ok=True)\n",
    "    \n",
    "    # Download sound from freesound\n",
    "    audio = requests.get(audio_url)\n",
    "\n",
    "    # Define file name for audio\n",
    "    file_path = os.path.join(base_directory, file_name)\n",
    "\n",
    "    # Write audio\n",
    "    with open(file_path, \"wb\") as file:\n",
    "      file.write(audio.content)"
   ]
  },
  {
   "cell_type": "code",
   "execution_count": 4,
   "metadata": {
    "id": "eQFGdey2Pvy7"
   },
   "outputs": [],
   "source": [
    "def download_corpus(num_samples=100):\n",
    "    url = \"https://freesound.org/apiv2/search/text/\"\n",
    "    params = {\n",
    "        \"filter\": \"is_geotagged:1%20duration: [1 TO 60]\",\n",
    "        \"fields\": \"geotag,tags,id,previews\",\n",
    "        \"token\": FREESOUND_API_KEY,\n",
    "        'query': 'instruments',\n",
    "    }\n",
    "    \n",
    "    response = requests.get(url, params=params)\n",
    "    json_response = response.json()\n",
    "    \n",
    "    mappings = dict()\n",
    "    count = 0\n",
    "    while json_response.get('next') is not None and count <= num_samples:\n",
    "    \n",
    "        # Iterate over all retrieved sounds (dictionary)\n",
    "        for i in range (len(json_response['results'])):\n",
    "            audio_url = json_response['results'][i].get('previews')['preview-hq-mp3']\n",
    "            \n",
    "            # Get sound ID and create filename\n",
    "            sound_id = json_response['results'][i].get('id')\n",
    "            file_name = str(sound_id) + \".mp3\"\n",
    "            \n",
    "            # Get freesound geotag\n",
    "            geotag = json_response['results'][i].get('geotag')\n",
    "            \n",
    "            # Save audio file\n",
    "            save_audio(audio_url, file_name)\n",
    "\n",
    "            # Add filename: geotag to mappings\n",
    "            mappings[file_name] = geotag\n",
    "\n",
    "            # Update count\n",
    "            count += 1\n",
    "        \n",
    "        response = requests.get(url=json_response['next'],params=params)\n",
    "        json_response = response.json()\n",
    "    \n",
    "    with open('../corpus/mappings.json', 'w') as f:\n",
    "        json.dump(mappings, f, indent=4)"
   ]
  },
  {
   "cell_type": "code",
   "execution_count": 5,
   "metadata": {},
   "outputs": [],
   "source": [
    "download_corpus(200)"
   ]
  },
  {
   "cell_type": "code",
   "execution_count": null,
   "metadata": {},
   "outputs": [],
   "source": []
  }
 ],
 "metadata": {
  "colab": {
   "provenance": []
  },
  "kernelspec": {
   "display_name": "Python 3 (ipykernel)",
   "language": "python",
   "name": "python3"
  },
  "language_info": {
   "codemirror_mode": {
    "name": "ipython",
    "version": 3
   },
   "file_extension": ".py",
   "mimetype": "text/x-python",
   "name": "python",
   "nbconvert_exporter": "python",
   "pygments_lexer": "ipython3",
   "version": "3.10.16"
  }
 },
 "nbformat": 4,
 "nbformat_minor": 4
}
